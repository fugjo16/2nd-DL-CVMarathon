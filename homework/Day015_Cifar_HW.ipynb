{
 "cells": [
  {
   "cell_type": "markdown",
   "metadata": {},
   "source": [
    "## 『本次練習內容』\n",
    "#### 運用這幾天所學觀念搭建一個CNN分類器"
   ]
  },
  {
   "cell_type": "markdown",
   "metadata": {},
   "source": [
    "## 『本次練習目的』\n",
    "  #### 熟悉CNN分類器搭建步驟與原理\n",
    "  #### 學員們可以嘗試不同搭法，如使用不同的Maxpooling層，用GlobalAveragePooling取代Flatten等等"
   ]
  },
  {
   "cell_type": "code",
   "execution_count": 1,
   "metadata": {},
   "outputs": [
    {
     "name": "stderr",
     "output_type": "stream",
     "text": [
      "Using TensorFlow backend.\n"
     ]
    }
   ],
   "source": [
    "from keras.models import Sequential\n",
    "from keras.layers import Convolution2D\n",
    "from keras.layers import MaxPooling2D\n",
    "from keras.layers import Flatten\n",
    "from keras.layers import Dense\n",
    "from keras.layers import Dropout\n",
    "from keras.layers import BatchNormalization\n",
    "from keras.datasets import cifar10\n",
    "import numpy as np\n",
    "import tensorflow as tf\n",
    "from sklearn.preprocessing import OneHotEncoder\n"
   ]
  },
  {
   "cell_type": "code",
   "execution_count": 2,
   "metadata": {},
   "outputs": [
    {
     "name": "stdout",
     "output_type": "stream",
     "text": [
      "(50000, 32, 32, 3)\n",
      "120.70756512369792 64.1500758911213\n"
     ]
    }
   ],
   "source": [
    "(x_train, y_train), (x_test, y_test) = cifar10.load_data()\n",
    "\n",
    "print(x_train.shape) #(50000, 32, 32, 3)\n",
    "\n",
    "## Normalize Data\n",
    "def normalize(X_train,X_test):\n",
    "        mean = np.mean(X_train,axis=(0,1,2,3))\n",
    "        std = np.std(X_train, axis=(0, 1, 2, 3))\n",
    "        print(mean, std)\n",
    "        X_train = (X_train-mean)/(std+1e-7)\n",
    "        X_test = (X_test-mean)/(std+1e-7) \n",
    "        return X_train, X_test,mean,std\n",
    "    \n",
    "    \n",
    "## Normalize Training and Testset    \n",
    "x_train, x_test, mean_train, std_train = normalize(x_train, x_test) "
   ]
  },
  {
   "cell_type": "code",
   "execution_count": 3,
   "metadata": {},
   "outputs": [
    {
     "name": "stderr",
     "output_type": "stream",
     "text": [
      "C:\\ProgramData\\Anaconda3\\lib\\site-packages\\sklearn\\preprocessing\\_encoders.py:371: FutureWarning: The handling of integer data will change in version 0.22. Currently, the categories are determined based on the range [0, max(values)], while in the future they will be determined based on the unique values.\n",
      "If you want the future behaviour and silence this warning, you can specify \"categories='auto'\".\n",
      "In case you used a LabelEncoder before this OneHotEncoder to convert the categories to integers, then you can now use the OneHotEncoder directly.\n",
      "  warnings.warn(msg, FutureWarning)\n"
     ]
    }
   ],
   "source": [
    "## OneHot Label 由(None, 1)-(None, 10)\n",
    "## ex. label=2,變成[0,0,1,0,0,0,0,0,0,0]\n",
    "one_hot = OneHotEncoder()\n",
    "y_train_onehot = one_hot.fit_transform(y_train).toarray()\n",
    "y_test_onehot = one_hot.transform(y_test).toarray()"
   ]
  },
  {
   "cell_type": "code",
   "execution_count": 4,
   "metadata": {},
   "outputs": [
    {
     "name": "stderr",
     "output_type": "stream",
     "text": [
      "C:\\ProgramData\\Anaconda3\\lib\\site-packages\\ipykernel_launcher.py:21: UserWarning: Update your `Dense` call to the Keras 2 API: `Dense(activation=\"relu\", units=100)`\n",
      "C:\\ProgramData\\Anaconda3\\lib\\site-packages\\ipykernel_launcher.py:25: UserWarning: Update your `Dense` call to the Keras 2 API: `Dense(activation=\"softmax\", units=10)`\n"
     ]
    },
    {
     "name": "stdout",
     "output_type": "stream",
     "text": [
      "Epoch 1/40\n",
      "50000/50000 [==============================] - 15s 295us/step - loss: 1.3193 - accuracy: 0.5394\n",
      "Epoch 2/40\n",
      "50000/50000 [==============================] - 12s 243us/step - loss: 0.9349 - accuracy: 0.6744\n",
      "Epoch 3/40\n",
      "50000/50000 [==============================] - 13s 267us/step - loss: 0.7847 - accuracy: 0.7268\n",
      "Epoch 4/40\n",
      "50000/50000 [==============================] - 13s 252us/step - loss: 0.6857 - accuracy: 0.7596\n",
      "Epoch 5/40\n",
      "50000/50000 [==============================] - 13s 254us/step - loss: 0.6033 - accuracy: 0.7904\n",
      "Epoch 6/40\n",
      "50000/50000 [==============================] - 13s 269us/step - loss: 0.5359 - accuracy: 0.8111\n",
      "Epoch 7/40\n",
      "50000/50000 [==============================] - 12s 239us/step - loss: 0.4711 - accuracy: 0.8336\n",
      "Epoch 8/40\n",
      "50000/50000 [==============================] - 11s 228us/step - loss: 0.4111 - accuracy: 0.8564\n",
      "Epoch 9/40\n",
      "50000/50000 [==============================] - 14s 271us/step - loss: 0.3671 - accuracy: 0.8727\n",
      "Epoch 10/40\n",
      "50000/50000 [==============================] - 12s 236us/step - loss: 0.3169 - accuracy: 0.8885\n",
      "Epoch 11/40\n",
      "50000/50000 [==============================] - 12s 249us/step - loss: 0.2773 - accuracy: 0.9030\n",
      "Epoch 12/40\n",
      "50000/50000 [==============================] - 13s 263us/step - loss: 0.2376 - accuracy: 0.9169\n",
      "Epoch 13/40\n",
      "50000/50000 [==============================] - 15s 292us/step - loss: 0.2107 - accuracy: 0.9260\n",
      "Epoch 14/40\n",
      "50000/50000 [==============================] - 13s 257us/step - loss: 0.1873 - accuracy: 0.9338\n",
      "Epoch 15/40\n",
      "50000/50000 [==============================] - 11s 223us/step - loss: 0.1655 - accuracy: 0.9412\n",
      "Epoch 16/40\n",
      "50000/50000 [==============================] - 12s 234us/step - loss: 0.1537 - accuracy: 0.9440\n",
      "Epoch 17/40\n",
      "50000/50000 [==============================] - 12s 249us/step - loss: 0.1349 - accuracy: 0.9531\n",
      "Epoch 18/40\n",
      "50000/50000 [==============================] - 12s 246us/step - loss: 0.1183 - accuracy: 0.9578\n",
      "Epoch 19/40\n",
      "50000/50000 [==============================] - 13s 269us/step - loss: 0.1085 - accuracy: 0.9619\n",
      "Epoch 20/40\n",
      "50000/50000 [==============================] - 14s 272us/step - loss: 0.1003 - accuracy: 0.9644\n",
      "Epoch 21/40\n",
      "50000/50000 [==============================] - 14s 274us/step - loss: 0.1017 - accuracy: 0.9642\n",
      "Epoch 22/40\n",
      "50000/50000 [==============================] - 12s 233us/step - loss: 0.1013 - accuracy: 0.9648\n",
      "Epoch 23/40\n",
      "50000/50000 [==============================] - 11s 227us/step - loss: 0.0888 - accuracy: 0.9682\n",
      "Epoch 24/40\n",
      "50000/50000 [==============================] - 11s 217us/step - loss: 0.0842 - accuracy: 0.9707\n",
      "Epoch 25/40\n",
      "50000/50000 [==============================] - 14s 273us/step - loss: 0.0738 - accuracy: 0.9739\n",
      "Epoch 26/40\n",
      "50000/50000 [==============================] - 13s 264us/step - loss: 0.0782 - accuracy: 0.9720\n",
      "Epoch 27/40\n",
      "50000/50000 [==============================] - 13s 251us/step - loss: 0.0752 - accuracy: 0.9737\n",
      "Epoch 28/40\n",
      "50000/50000 [==============================] - 11s 218us/step - loss: 0.0713 - accuracy: 0.9748\n",
      "Epoch 29/40\n",
      "50000/50000 [==============================] - 14s 290us/step - loss: 0.0663 - accuracy: 0.9764\n",
      "Epoch 30/40\n",
      "50000/50000 [==============================] - 13s 269us/step - loss: 0.0614 - accuracy: 0.9789\n",
      "Epoch 31/40\n",
      "50000/50000 [==============================] - 14s 280us/step - loss: 0.0702 - accuracy: 0.9754\n",
      "Epoch 32/40\n",
      "50000/50000 [==============================] - 13s 253us/step - loss: 0.0626 - accuracy: 0.9776\n",
      "Epoch 33/40\n",
      "50000/50000 [==============================] - 12s 241us/step - loss: 0.0588 - accuracy: 0.9791\n",
      "Epoch 34/40\n",
      "50000/50000 [==============================] - 13s 265us/step - loss: 0.0699 - accuracy: 0.9746\n",
      "Epoch 35/40\n",
      "50000/50000 [==============================] - 14s 287us/step - loss: 0.0555 - accuracy: 0.9814\n",
      "Epoch 36/40\n",
      "50000/50000 [==============================] - 14s 282us/step - loss: 0.0507 - accuracy: 0.9820\n",
      "Epoch 37/40\n",
      "50000/50000 [==============================] - 13s 261us/step - loss: 0.0582 - accuracy: 0.9802\n",
      "Epoch 38/40\n",
      "50000/50000 [==============================] - 15s 291us/step - loss: 0.0564 - accuracy: 0.9803\n",
      "Epoch 39/40\n",
      "50000/50000 [==============================] - 12s 239us/step - loss: 0.0491 - accuracy: 0.9828\n",
      "Epoch 40/40\n",
      "50000/50000 [==============================] - 13s 266us/step - loss: 0.0531 - accuracy: 0.9813\n"
     ]
    },
    {
     "data": {
      "text/plain": [
       "<keras.callbacks.callbacks.History at 0x283a69b9e48>"
      ]
     },
     "execution_count": 4,
     "metadata": {},
     "output_type": "execute_result"
    }
   ],
   "source": [
    "\n",
    "classifier=Sequential()\n",
    "\n",
    "#卷積組合\n",
    "classifier.add(Convolution2D(32, (3,3), input_shape=(32,32,3), activation='relu'))#32,3,3,input_shape=(32,32,3),activation='relu''\n",
    "classifier.add(MaxPooling2D(pool_size=(2,2)))\n",
    "classifier.add(BatchNormalization())\n",
    "\n",
    "'''自己決定MaxPooling2D放在哪裡'''\n",
    "\n",
    "\n",
    "#卷積組合\n",
    "classifier.add(Convolution2D(32, (3,3), activation='relu'))\n",
    "classifier.add(MaxPooling2D(pool_size=(2,2)))\n",
    "classifier.add(BatchNormalization())\n",
    "\n",
    "#flatten\n",
    "classifier.add(Flatten())\n",
    "\n",
    "#FC\n",
    "classifier.add(Dense(output_dim=100, activation='relu')) #output_dim=100,activation=relu\n",
    "\n",
    "\n",
    "#輸出\n",
    "classifier.add(Dense(output_dim=10,activation='softmax'))\n",
    "\n",
    "#超過兩個就要選categorical_crossentrophy\n",
    "classifier.compile(optimizer='adam', loss='categorical_crossentropy', metrics=['accuracy'])\n",
    "classifier.fit(x_train, y_train_onehot, batch_size=100, epochs=40)"
   ]
  },
  {
   "cell_type": "markdown",
   "metadata": {},
   "source": [
    "## 預測新圖片，輸入影像前處理要與訓練時相同\n",
    "#### ((X-mean)/(std+1e-7) ):這裡的mean跟std是訓練集的\n",
    "## 維度如下方示範"
   ]
  },
  {
   "cell_type": "code",
   "execution_count": 5,
   "metadata": {},
   "outputs": [
    {
     "data": {
      "text/plain": [
       "array([[4.8026158e-07, 8.5323942e-10, 9.4119437e-02, 8.1266707e-01,\n",
       "        7.8729779e-02, 1.3209229e-03, 7.5897167e-04, 1.2394316e-02,\n",
       "        8.9646537e-06, 2.2237071e-14]], dtype=float32)"
      ]
     },
     "execution_count": 5,
     "metadata": {},
     "output_type": "execute_result"
    }
   ],
   "source": [
    "input_example = (np.zeros(shape=(1,32,32,3))-mean_train) / (std_train+1e-7) \n",
    "classifier.predict(input_example)"
   ]
  },
  {
   "cell_type": "code",
   "execution_count": 5,
   "metadata": {},
   "outputs": [
    {
     "name": "stdout",
     "output_type": "stream",
     "text": [
      "10000/10000 [==============================] - 10s 980us/step\n"
     ]
    },
    {
     "data": {
      "text/plain": [
       "[2.2728396960258483, 0.6704000234603882]"
      ]
     },
     "execution_count": 5,
     "metadata": {},
     "output_type": "execute_result"
    }
   ],
   "source": [
    "classifier.evaluate(x_test, y_test_onehot)"
   ]
  },
  {
   "cell_type": "code",
   "execution_count": 27,
   "metadata": {},
   "outputs": [
    {
     "name": "stdout",
     "output_type": "stream",
     "text": [
      "10000/10000 [==============================] - 2s 153us/step\n"
     ]
    },
    {
     "data": {
      "text/plain": [
       "[4.409608975219727, 0.6776000261306763]"
      ]
     },
     "execution_count": 27,
     "metadata": {},
     "output_type": "execute_result"
    }
   ],
   "source": [
    "# y_inv = one_hot.inverse_transform(y_pred)\n",
    "classifier.evaluate(x_test, y_test_onehot)"
   ]
  },
  {
   "cell_type": "code",
   "execution_count": null,
   "metadata": {},
   "outputs": [],
   "source": []
  }
 ],
 "metadata": {
  "kernelspec": {
   "display_name": "Python 3",
   "language": "python",
   "name": "python3"
  },
  "language_info": {
   "codemirror_mode": {
    "name": "ipython",
    "version": 3
   },
   "file_extension": ".py",
   "mimetype": "text/x-python",
   "name": "python",
   "nbconvert_exporter": "python",
   "pygments_lexer": "ipython3",
   "version": "3.7.3"
  }
 },
 "nbformat": 4,
 "nbformat_minor": 2
}
